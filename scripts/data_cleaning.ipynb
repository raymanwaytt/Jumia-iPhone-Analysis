{
 "cells": [
  {
   "cell_type": "markdown",
   "id": "07cc2d9d-22e4-444a-9840-af884bdb21ee",
   "metadata": {},
   "source": [
    "## DATA CLEANING WITH PYTHON"
   ]
  },
  {
   "cell_type": "markdown",
   "id": "49e6c716-a934-4968-bc8d-ece8b0b48d88",
   "metadata": {},
   "source": [
    "## this involves cleaning the data to extract important data and drop off redundant "
   ]
  },
  {
   "cell_type": "markdown",
   "id": "9bf1bb9d-ddf8-4046-89fe-bdad94b181f0",
   "metadata": {},
   "source": [
    "## Data load / overview"
   ]
  },
  {
   "cell_type": "code",
   "execution_count": 292,
   "id": "8ca1b6f9-c575-4ea3-9c5d-1cb36cb0f259",
   "metadata": {},
   "outputs": [],
   "source": [
    "import pandas as pd"
   ]
  },
  {
   "cell_type": "code",
   "execution_count": 293,
   "id": "b82ec716-d821-461a-8300-0bd304d50b9a",
   "metadata": {},
   "outputs": [],
   "source": [
    "# Load the CSV file\n",
    "file_path = \"../data/iphone_data.csv\"\n",
    "df = pd.read_csv(file_path)"
   ]
  },
  {
   "cell_type": "code",
   "execution_count": 294,
   "id": "97d16fff-f8fb-407a-9ff3-c0eba71d83e6",
   "metadata": {},
   "outputs": [
    {
     "name": "stdout",
     "output_type": "stream",
     "text": [
      "<class 'pandas.core.frame.DataFrame'>\n",
      "RangeIndex: 315 entries, 0 to 314\n",
      "Data columns (total 5 columns):\n",
      " #   Column  Non-Null Count  Dtype \n",
      "---  ------  --------------  ----- \n",
      " 0   Name    315 non-null    object\n",
      " 1   Price   315 non-null    object\n",
      " 2   Link    315 non-null    object\n",
      " 3   Image   315 non-null    object\n",
      " 4   Date    315 non-null    object\n",
      "dtypes: object(5)\n",
      "memory usage: 12.4+ KB\n"
     ]
    }
   ],
   "source": [
    " df.info()"
   ]
  },
  {
   "cell_type": "code",
   "execution_count": 295,
   "id": "a111f741-9e1a-4ba3-9160-856a34e97ada",
   "metadata": {},
   "outputs": [
    {
     "data": {
      "text/html": [
       "<div>\n",
       "<style scoped>\n",
       "    .dataframe tbody tr th:only-of-type {\n",
       "        vertical-align: middle;\n",
       "    }\n",
       "\n",
       "    .dataframe tbody tr th {\n",
       "        vertical-align: top;\n",
       "    }\n",
       "\n",
       "    .dataframe thead th {\n",
       "        text-align: right;\n",
       "    }\n",
       "</style>\n",
       "<table border=\"1\" class=\"dataframe\">\n",
       "  <thead>\n",
       "    <tr style=\"text-align: right;\">\n",
       "      <th></th>\n",
       "      <th>Name</th>\n",
       "      <th>Price</th>\n",
       "      <th>Link</th>\n",
       "      <th>Image</th>\n",
       "      <th>Date</th>\n",
       "    </tr>\n",
       "  </thead>\n",
       "  <tbody>\n",
       "    <tr>\n",
       "      <th>0</th>\n",
       "      <td>Apple IPhone 12 Pro Max - 6.7-Inch - 128GB ROM...</td>\n",
       "      <td>₦ 880,000</td>\n",
       "      <td>https://www.jumia.com.ng//apple-iphone-12-pro-...</td>\n",
       "      <td>https://ng.jumia.is/unsafe/fit-in/300x300/filt...</td>\n",
       "      <td>2025-03-13</td>\n",
       "    </tr>\n",
       "    <tr>\n",
       "      <th>1</th>\n",
       "      <td>Apple IPhone 15 Pro Max 6.7\" 512GB Nano-SIM 5G...</td>\n",
       "      <td>₦ 2,000,000</td>\n",
       "      <td>https://www.jumia.com.ng//apple-iphone-15-pro-...</td>\n",
       "      <td>https://ng.jumia.is/unsafe/fit-in/300x300/filt...</td>\n",
       "      <td>2025-03-13</td>\n",
       "    </tr>\n",
       "    <tr>\n",
       "      <th>2</th>\n",
       "      <td>Apple IPhone 11 6.1-Inch Liquid Retina LCD (4G...</td>\n",
       "      <td>₦ 755,000</td>\n",
       "      <td>https://www.jumia.com.ng//apple-iphone-11-6.1-...</td>\n",
       "      <td>https://ng.jumia.is/unsafe/fit-in/300x300/filt...</td>\n",
       "      <td>2025-03-13</td>\n",
       "    </tr>\n",
       "    <tr>\n",
       "      <th>3</th>\n",
       "      <td>Apple IPhone 16 Pro Max - 256GB - Black Titanium</td>\n",
       "      <td>₦ 2,100,999</td>\n",
       "      <td>https://www.jumia.com.ng//apple-iphone-16-pro-...</td>\n",
       "      <td>https://ng.jumia.is/unsafe/fit-in/300x300/filt...</td>\n",
       "      <td>2025-03-13</td>\n",
       "    </tr>\n",
       "    <tr>\n",
       "      <th>4</th>\n",
       "      <td>Apple IPhone 13 Pro 5G - 6.1\" 128GB ROM, 6GB R...</td>\n",
       "      <td>₦ 950,000</td>\n",
       "      <td>https://www.jumia.com.ng//apple-iphone-13-pro-...</td>\n",
       "      <td>https://ng.jumia.is/unsafe/fit-in/300x300/filt...</td>\n",
       "      <td>2025-03-13</td>\n",
       "    </tr>\n",
       "  </tbody>\n",
       "</table>\n",
       "</div>"
      ],
      "text/plain": [
       "                                                Name        Price  \\\n",
       "0  Apple IPhone 12 Pro Max - 6.7-Inch - 128GB ROM...    ₦ 880,000   \n",
       "1  Apple IPhone 15 Pro Max 6.7\" 512GB Nano-SIM 5G...  ₦ 2,000,000   \n",
       "2  Apple IPhone 11 6.1-Inch Liquid Retina LCD (4G...    ₦ 755,000   \n",
       "3   Apple IPhone 16 Pro Max - 256GB - Black Titanium  ₦ 2,100,999   \n",
       "4  Apple IPhone 13 Pro 5G - 6.1\" 128GB ROM, 6GB R...    ₦ 950,000   \n",
       "\n",
       "                                                Link  \\\n",
       "0  https://www.jumia.com.ng//apple-iphone-12-pro-...   \n",
       "1  https://www.jumia.com.ng//apple-iphone-15-pro-...   \n",
       "2  https://www.jumia.com.ng//apple-iphone-11-6.1-...   \n",
       "3  https://www.jumia.com.ng//apple-iphone-16-pro-...   \n",
       "4  https://www.jumia.com.ng//apple-iphone-13-pro-...   \n",
       "\n",
       "                                               Image        Date  \n",
       "0  https://ng.jumia.is/unsafe/fit-in/300x300/filt...  2025-03-13  \n",
       "1  https://ng.jumia.is/unsafe/fit-in/300x300/filt...  2025-03-13  \n",
       "2  https://ng.jumia.is/unsafe/fit-in/300x300/filt...  2025-03-13  \n",
       "3  https://ng.jumia.is/unsafe/fit-in/300x300/filt...  2025-03-13  \n",
       "4  https://ng.jumia.is/unsafe/fit-in/300x300/filt...  2025-03-13  "
      ]
     },
     "execution_count": 295,
     "metadata": {},
     "output_type": "execute_result"
    }
   ],
   "source": [
    "# Display basic info and the first few rows\n",
    "df.head()"
   ]
  },
  {
   "cell_type": "markdown",
   "id": "0d523c10-2e70-4d33-883d-7c454548edea",
   "metadata": {},
   "source": [
    "## This section i'll be Cleaning the Name column\n",
    "steps taken:\n",
    "- replace incorrect words\n",
    "- Normalize the characters\n",
    "- take off whitespaces, etc"
   ]
  },
  {
   "cell_type": "code",
   "execution_count": 296,
   "id": "f261aaa8-c593-4705-aa3e-3d881d9d1c30",
   "metadata": {},
   "outputs": [],
   "source": [
    "df['Name'] = df['Name'].str.replace('phone', 'iphone') # replaces 'phone' to 'iphone'\n",
    "df['Nmae'] = df['Name'].str.replace('iphone', 'iphone ') # adds space to seperate from other character\n",
    "df['Nmae'] = df['Name'].str.replace(r'\\s+', ' ', regex=True) # replce any whitespaces to just one\n",
    "df['Name'] = df['Name'].str.strip() # takes away all leading and trailing spaces\n",
    "df['Name'] = df['Name'].str.title() # changes the begining of each words to Uppercase"
   ]
  },
  {
   "cell_type": "code",
   "execution_count": 297,
   "id": "7ffdca56-4c43-44f6-a880-bf47a2a3e0f3",
   "metadata": {},
   "outputs": [
    {
     "data": {
      "text/html": [
       "<div>\n",
       "<style scoped>\n",
       "    .dataframe tbody tr th:only-of-type {\n",
       "        vertical-align: middle;\n",
       "    }\n",
       "\n",
       "    .dataframe tbody tr th {\n",
       "        vertical-align: top;\n",
       "    }\n",
       "\n",
       "    .dataframe thead th {\n",
       "        text-align: right;\n",
       "    }\n",
       "</style>\n",
       "<table border=\"1\" class=\"dataframe\">\n",
       "  <thead>\n",
       "    <tr style=\"text-align: right;\">\n",
       "      <th></th>\n",
       "      <th>Description</th>\n",
       "      <th>Price</th>\n",
       "      <th>Link</th>\n",
       "      <th>Image</th>\n",
       "      <th>Date</th>\n",
       "      <th>Nmae</th>\n",
       "    </tr>\n",
       "  </thead>\n",
       "  <tbody>\n",
       "    <tr>\n",
       "      <th>0</th>\n",
       "      <td>Apple Iphone 12 Pro Max - 6.7-Inch - 128Gb Rom...</td>\n",
       "      <td>₦ 880,000</td>\n",
       "      <td>https://www.jumia.com.ng//apple-iphone-12-pro-...</td>\n",
       "      <td>https://ng.jumia.is/unsafe/fit-in/300x300/filt...</td>\n",
       "      <td>2025-03-13</td>\n",
       "      <td>Apple IPhone 12 Pro Max - 6.7-Inch - 128GB ROM...</td>\n",
       "    </tr>\n",
       "    <tr>\n",
       "      <th>1</th>\n",
       "      <td>Apple Iphone 15 Pro Max 6.7\" 512Gb Nano-Sim 5G...</td>\n",
       "      <td>₦ 2,000,000</td>\n",
       "      <td>https://www.jumia.com.ng//apple-iphone-15-pro-...</td>\n",
       "      <td>https://ng.jumia.is/unsafe/fit-in/300x300/filt...</td>\n",
       "      <td>2025-03-13</td>\n",
       "      <td>Apple IPhone 15 Pro Max 6.7\" 512GB Nano-SIM 5G...</td>\n",
       "    </tr>\n",
       "    <tr>\n",
       "      <th>2</th>\n",
       "      <td>Apple Iphone 11 6.1-Inch Liquid Retina Lcd (4G...</td>\n",
       "      <td>₦ 755,000</td>\n",
       "      <td>https://www.jumia.com.ng//apple-iphone-11-6.1-...</td>\n",
       "      <td>https://ng.jumia.is/unsafe/fit-in/300x300/filt...</td>\n",
       "      <td>2025-03-13</td>\n",
       "      <td>Apple IPhone 11 6.1-Inch Liquid Retina LCD (4G...</td>\n",
       "    </tr>\n",
       "    <tr>\n",
       "      <th>3</th>\n",
       "      <td>Apple Iphone 16 Pro Max - 256Gb - Black Titanium</td>\n",
       "      <td>₦ 2,100,999</td>\n",
       "      <td>https://www.jumia.com.ng//apple-iphone-16-pro-...</td>\n",
       "      <td>https://ng.jumia.is/unsafe/fit-in/300x300/filt...</td>\n",
       "      <td>2025-03-13</td>\n",
       "      <td>Apple IPhone 16 Pro Max - 256GB - Black Titanium</td>\n",
       "    </tr>\n",
       "    <tr>\n",
       "      <th>4</th>\n",
       "      <td>Apple Iphone 13 Pro 5G - 6.1\" 128Gb Rom, 6Gb R...</td>\n",
       "      <td>₦ 950,000</td>\n",
       "      <td>https://www.jumia.com.ng//apple-iphone-13-pro-...</td>\n",
       "      <td>https://ng.jumia.is/unsafe/fit-in/300x300/filt...</td>\n",
       "      <td>2025-03-13</td>\n",
       "      <td>Apple IPhone 13 Pro 5G - 6.1\" 128GB ROM, 6GB R...</td>\n",
       "    </tr>\n",
       "  </tbody>\n",
       "</table>\n",
       "</div>"
      ],
      "text/plain": [
       "                                         Description        Price  \\\n",
       "0  Apple Iphone 12 Pro Max - 6.7-Inch - 128Gb Rom...    ₦ 880,000   \n",
       "1  Apple Iphone 15 Pro Max 6.7\" 512Gb Nano-Sim 5G...  ₦ 2,000,000   \n",
       "2  Apple Iphone 11 6.1-Inch Liquid Retina Lcd (4G...    ₦ 755,000   \n",
       "3   Apple Iphone 16 Pro Max - 256Gb - Black Titanium  ₦ 2,100,999   \n",
       "4  Apple Iphone 13 Pro 5G - 6.1\" 128Gb Rom, 6Gb R...    ₦ 950,000   \n",
       "\n",
       "                                                Link  \\\n",
       "0  https://www.jumia.com.ng//apple-iphone-12-pro-...   \n",
       "1  https://www.jumia.com.ng//apple-iphone-15-pro-...   \n",
       "2  https://www.jumia.com.ng//apple-iphone-11-6.1-...   \n",
       "3  https://www.jumia.com.ng//apple-iphone-16-pro-...   \n",
       "4  https://www.jumia.com.ng//apple-iphone-13-pro-...   \n",
       "\n",
       "                                               Image        Date  \\\n",
       "0  https://ng.jumia.is/unsafe/fit-in/300x300/filt...  2025-03-13   \n",
       "1  https://ng.jumia.is/unsafe/fit-in/300x300/filt...  2025-03-13   \n",
       "2  https://ng.jumia.is/unsafe/fit-in/300x300/filt...  2025-03-13   \n",
       "3  https://ng.jumia.is/unsafe/fit-in/300x300/filt...  2025-03-13   \n",
       "4  https://ng.jumia.is/unsafe/fit-in/300x300/filt...  2025-03-13   \n",
       "\n",
       "                                                Nmae  \n",
       "0  Apple IPhone 12 Pro Max - 6.7-Inch - 128GB ROM...  \n",
       "1  Apple IPhone 15 Pro Max 6.7\" 512GB Nano-SIM 5G...  \n",
       "2  Apple IPhone 11 6.1-Inch Liquid Retina LCD (4G...  \n",
       "3   Apple IPhone 16 Pro Max - 256GB - Black Titanium  \n",
       "4  Apple IPhone 13 Pro 5G - 6.1\" 128GB ROM, 6GB R...  "
      ]
     },
     "execution_count": 297,
     "metadata": {},
     "output_type": "execute_result"
    }
   ],
   "source": [
    "df.rename(columns = {'Name':'Description'}, inplace=True) #rename column\n",
    "df.head()"
   ]
  },
  {
   "cell_type": "markdown",
   "id": "ffc6b919-d173-4bf7-b948-6db42b342ea4",
   "metadata": {},
   "source": [
    "## EXTRACT THE MODEL\n",
    "in this section i'll be extracting the model of the phone </br>\n",
    "### steps taken:\n",
    "- normalized the characters in the dscription to lower case\n",
    "- created a list of all iphone models involved in this dataset\n",
    "- created a function that loops throgh the decription checks if any matches with the list of iphone model i created, then returns the matched model and saves it in the model column"
   ]
  },
  {
   "cell_type": "code",
   "execution_count": 298,
   "id": "d0ac29c6-5e08-4437-8e86-041270bbd095",
   "metadata": {},
   "outputs": [],
   "source": [
    "df['Model'] = df['Description'].str.lower() # changes all to lowercase"
   ]
  },
  {
   "cell_type": "code",
   "execution_count": 299,
   "id": "1377abee-45b2-480b-bcf0-0a2fe7dc0fc2",
   "metadata": {},
   "outputs": [],
   "source": [
    "# List of available iPhone models\n",
    "iphone_models = [\n",
    "    \"iphone 16 pro max\", \"iphone 16 pro\", \"iphone 16 plus\", \"iphone 16\",\n",
    "    \"iphone 15 pro max\", \"iphone 15 pro\", \"iphone 15 plus\", \"iphone 15\", \n",
    "    \"iphone 14 pro max\", \"iphone 14 pro\", \"iphone 14 plus\", \"iphone 14\", \n",
    "    \"iphone 13 pro max\", \"iphone 13 pro\", \"iphone 13\", \n",
    "    \"iphone12 pro max\", \"iphone 12 pro\", \"iphone 12\", \n",
    "    \"iphone 11 pro max\", \"iphone 11 pro\", \"iphone 11\", \n",
    "    \"iphone xs max\", \"iphone xs\", \"iphone xr\", \"iphone x\", \n",
    "    \"iphone 8 plus\", \"iphone 8\", \"iphone 7\"\n",
    "]"
   ]
  },
  {
   "cell_type": "code",
   "execution_count": 300,
   "id": "d55a6548-33be-4e01-a376-5593de941cac",
   "metadata": {},
   "outputs": [],
   "source": [
    "# Function to find model in each row\n",
    "def find_model(description):\n",
    "    for model in iphone_models:\n",
    "        if model in description:\n",
    "            return model  # Return the first matching model\n",
    "    return \"Unknown\"  # If no match is found"
   ]
  },
  {
   "cell_type": "code",
   "execution_count": 301,
   "id": "cadb9907-d011-4800-8f8d-448b26e9734e",
   "metadata": {},
   "outputs": [],
   "source": [
    "# Apply function to the column containing phone descriptions\n",
    "df[\"Model\"] = df[\"Model\"].apply(find_model) "
   ]
  },
  {
   "cell_type": "code",
   "execution_count": 302,
   "id": "e2f1b79d-960f-448a-8c90-bfe31d4c8cca",
   "metadata": {},
   "outputs": [
    {
     "data": {
      "text/plain": [
       "array(['iphone 12 pro', 'iphone 15 pro max', 'iphone 11',\n",
       "       'iphone 16 pro max', 'iphone 13 pro', 'iphone 12',\n",
       "       'iphone 11 pro max', 'iphone 16', 'iphone 14 pro max', 'iphone xr',\n",
       "       'iphone 13', 'Unknown', 'iphone xs max', 'iphone 13 pro max',\n",
       "       'iphone 14 pro', 'iphone 15', 'iphone 15 plus', 'iphone 15 pro',\n",
       "       'iphone12 pro max', 'iphone 14', 'iphone xs', 'iphone 8'],\n",
       "      dtype=object)"
      ]
     },
     "execution_count": 302,
     "metadata": {},
     "output_type": "execute_result"
    }
   ],
   "source": [
    "df['Model'].unique()"
   ]
  },
  {
   "cell_type": "markdown",
   "id": "3a730e90-b3d3-47b0-acf6-2fda7d4ee8ff",
   "metadata": {},
   "source": [
    "## EXTRACT STORAGE\n",
    "i'll be extracting the storage capacity of each phone\n",
    "due to inconsistency in the arrangement, (e.g some storage are written as 64/8gb) i'll extract the number only\n",
    "### steps taken :\n",
    "- I created a list with all stoarage size involved in the dataset\n",
    "- i created a function with that checks for a match in the description using REGEX, appends 'gb' and saves the value to memory column "
   ]
  },
  {
   "cell_type": "code",
   "execution_count": 303,
   "id": "bff5ae4a-da8a-4e78-9d01-7d734fffd4f3",
   "metadata": {},
   "outputs": [],
   "source": [
    "# Define possible storage sizes\n",
    "storage_patterns = [\"64\", \"128\", \"256\", \"512\", \"1tb\"]\n",
    "\n",
    "# Function to extract storage size\n",
    "def find_storage(description):\n",
    "    description = str(description).lower()  # Convert to lowercase\n",
    "    for storage in storage_patterns:\n",
    "        if storage == \"1tb\":\n",
    "            pattern = r\"\\b1\\s*tb\\b\"  # Match '1TB' specifically\n",
    "        else:\n",
    "            pattern = rf\"\\b{storage}\\s*(gb|gn|g\\b)?\"  # Match other sizes with optional GB/Gn/G\n",
    "        \n",
    "        match = re.search(pattern, description)\n",
    "        if match:\n",
    "            return \"1TB\" if storage == \"1tb\" else f\"{storage}GB\"  # Format output correctly\n",
    "    return \"Unknown\"  # If no match is found"
   ]
  },
  {
   "cell_type": "code",
   "execution_count": 304,
   "id": "e889ea36-589f-416b-9069-db49477a8e02",
   "metadata": {},
   "outputs": [],
   "source": [
    "# Apply function to the description column\n",
    "df[\"Memory\"] = df[\"Description\"].apply(find_storage)  # Replace \"column_name\" with actual column name"
   ]
  },
  {
   "cell_type": "code",
   "execution_count": 305,
   "id": "f4dac24d-dc2b-477d-8fd4-ecee3c8ebda2",
   "metadata": {},
   "outputs": [
    {
     "data": {
      "text/plain": [
       "Memory\n",
       "128GB    152\n",
       "256GB    112\n",
       "64GB      39\n",
       "512GB     11\n",
       "1TB        1\n",
       "Name: count, dtype: int64"
      ]
     },
     "execution_count": 305,
     "metadata": {},
     "output_type": "execute_result"
    }
   ],
   "source": [
    "df['Memory'].value_counts()"
   ]
  },
  {
   "cell_type": "markdown",
   "id": "5b31f2e3-631c-4504-a945-57c8cbbcf2f7",
   "metadata": {},
   "source": [
    "## Price column cleaning\n",
    "- I split the price using a space (' ') as the delimiter, which returned a list containing both the currency symbol and the numerical amount.\n",
    "- Using *.str[1]* , I selected the second value (index 1), keeping only the numerical price and dropping the Naira (₦) symbol.\n",
    "- removed the ',' seperator and converted the values to int\n",
    "#### NOTE *'.str'* acts like a bridge, allowing string methods to work on an entire column instead of just one string."
   ]
  },
  {
   "cell_type": "code",
   "execution_count": 306,
   "id": "f0a37037-9936-4ea5-95ec-c400ceb9e088",
   "metadata": {},
   "outputs": [],
   "source": [
    "df['Price'] = df['Price'].str.split(' ').str[1]\n",
    "df['Price'] = df['Price'].str.replace(',', '').astype(int)"
   ]
  },
  {
   "cell_type": "code",
   "execution_count": 307,
   "id": "c7b84a18-93c8-4354-998f-6b30bb987685",
   "metadata": {},
   "outputs": [
    {
     "name": "stdout",
     "output_type": "stream",
     "text": [
      "<class 'pandas.core.frame.DataFrame'>\n",
      "RangeIndex: 315 entries, 0 to 314\n",
      "Data columns (total 8 columns):\n",
      " #   Column       Non-Null Count  Dtype \n",
      "---  ------       --------------  ----- \n",
      " 0   Description  315 non-null    object\n",
      " 1   Price        315 non-null    int64 \n",
      " 2   Link         315 non-null    object\n",
      " 3   Image        315 non-null    object\n",
      " 4   Date         315 non-null    object\n",
      " 5   Nmae         315 non-null    object\n",
      " 6   Model        315 non-null    object\n",
      " 7   Memory       315 non-null    object\n",
      "dtypes: int64(1), object(7)\n",
      "memory usage: 19.8+ KB\n"
     ]
    }
   ],
   "source": [
    "df.info()"
   ]
  },
  {
   "cell_type": "code",
   "execution_count": 308,
   "id": "4a63923e-3310-4973-8c27-f3de08bfc6e1",
   "metadata": {},
   "outputs": [
    {
     "data": {
      "text/html": [
       "<div>\n",
       "<style scoped>\n",
       "    .dataframe tbody tr th:only-of-type {\n",
       "        vertical-align: middle;\n",
       "    }\n",
       "\n",
       "    .dataframe tbody tr th {\n",
       "        vertical-align: top;\n",
       "    }\n",
       "\n",
       "    .dataframe thead th {\n",
       "        text-align: right;\n",
       "    }\n",
       "</style>\n",
       "<table border=\"1\" class=\"dataframe\">\n",
       "  <thead>\n",
       "    <tr style=\"text-align: right;\">\n",
       "      <th></th>\n",
       "      <th>Model</th>\n",
       "      <th>Description</th>\n",
       "      <th>Price</th>\n",
       "      <th>Link</th>\n",
       "    </tr>\n",
       "  </thead>\n",
       "  <tbody>\n",
       "    <tr>\n",
       "      <th>0</th>\n",
       "      <td>iphone 12 pro</td>\n",
       "      <td>Apple Iphone 12 Pro Max - 6.7-Inch - 128Gb Rom...</td>\n",
       "      <td>880000</td>\n",
       "      <td>https://www.jumia.com.ng//apple-iphone-12-pro-...</td>\n",
       "    </tr>\n",
       "    <tr>\n",
       "      <th>1</th>\n",
       "      <td>iphone 15 pro max</td>\n",
       "      <td>Apple Iphone 15 Pro Max 6.7\" 512Gb Nano-Sim 5G...</td>\n",
       "      <td>2000000</td>\n",
       "      <td>https://www.jumia.com.ng//apple-iphone-15-pro-...</td>\n",
       "    </tr>\n",
       "    <tr>\n",
       "      <th>2</th>\n",
       "      <td>iphone 11</td>\n",
       "      <td>Apple Iphone 11 6.1-Inch Liquid Retina Lcd (4G...</td>\n",
       "      <td>755000</td>\n",
       "      <td>https://www.jumia.com.ng//apple-iphone-11-6.1-...</td>\n",
       "    </tr>\n",
       "    <tr>\n",
       "      <th>3</th>\n",
       "      <td>iphone 16 pro max</td>\n",
       "      <td>Apple Iphone 16 Pro Max - 256Gb - Black Titanium</td>\n",
       "      <td>2100999</td>\n",
       "      <td>https://www.jumia.com.ng//apple-iphone-16-pro-...</td>\n",
       "    </tr>\n",
       "    <tr>\n",
       "      <th>4</th>\n",
       "      <td>iphone 13 pro</td>\n",
       "      <td>Apple Iphone 13 Pro 5G - 6.1\" 128Gb Rom, 6Gb R...</td>\n",
       "      <td>950000</td>\n",
       "      <td>https://www.jumia.com.ng//apple-iphone-13-pro-...</td>\n",
       "    </tr>\n",
       "  </tbody>\n",
       "</table>\n",
       "</div>"
      ],
      "text/plain": [
       "               Model                                        Description  \\\n",
       "0      iphone 12 pro  Apple Iphone 12 Pro Max - 6.7-Inch - 128Gb Rom...   \n",
       "1  iphone 15 pro max  Apple Iphone 15 Pro Max 6.7\" 512Gb Nano-Sim 5G...   \n",
       "2          iphone 11  Apple Iphone 11 6.1-Inch Liquid Retina Lcd (4G...   \n",
       "3  iphone 16 pro max   Apple Iphone 16 Pro Max - 256Gb - Black Titanium   \n",
       "4      iphone 13 pro  Apple Iphone 13 Pro 5G - 6.1\" 128Gb Rom, 6Gb R...   \n",
       "\n",
       "     Price                                               Link  \n",
       "0   880000  https://www.jumia.com.ng//apple-iphone-12-pro-...  \n",
       "1  2000000  https://www.jumia.com.ng//apple-iphone-15-pro-...  \n",
       "2   755000  https://www.jumia.com.ng//apple-iphone-11-6.1-...  \n",
       "3  2100999  https://www.jumia.com.ng//apple-iphone-16-pro-...  \n",
       "4   950000  https://www.jumia.com.ng//apple-iphone-13-pro-...  "
      ]
     },
     "execution_count": 308,
     "metadata": {},
     "output_type": "execute_result"
    }
   ],
   "source": [
    "# selecting columns needed for analysis\n",
    "cleaned_df = df[['Model','Description', 'Price', 'Link']] \n",
    "cleaned_df.head()"
   ]
  },
  {
   "cell_type": "code",
   "execution_count": 309,
   "id": "f2da5eec-a003-4f13-9281-d82c25fcab7e",
   "metadata": {},
   "outputs": [],
   "source": [
    "# save cleaned df\n",
    "file_path = '../data/cleaned_jumia.csv'\n",
    "cleaned_df.to_csv(file_path, index= False)"
   ]
  }
 ],
 "metadata": {
  "kernelspec": {
   "display_name": "Python 3 (ipykernel)",
   "language": "python",
   "name": "python3"
  },
  "language_info": {
   "codemirror_mode": {
    "name": "ipython",
    "version": 3
   },
   "file_extension": ".py",
   "mimetype": "text/x-python",
   "name": "python",
   "nbconvert_exporter": "python",
   "pygments_lexer": "ipython3",
   "version": "3.11.2"
  }
 },
 "nbformat": 4,
 "nbformat_minor": 5
}
